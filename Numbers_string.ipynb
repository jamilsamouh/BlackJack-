{
 "cells": [
  {
   "cell_type": "code",
   "execution_count": 2,
   "metadata": {},
   "outputs": [],
   "source": [
    "def get_string_of_number(number):\n",
    "\tif number==0:\n",
    "\t\treturn \"Zero\"\n",
    "\telif number==1:\n",
    "\t\treturn \"First\"\n",
    "\telif number==2:\n",
    "\t\treturn \"Second\"\n",
    "\telif number==3:\n",
    "\t\treturn \"Third\"\n",
    "\telif number==4:\n",
    "\t\treturn \"Fourth\"\n",
    "\telif number==5:\n",
    "\t\treturn \"Fifth\"\n",
    "\telif number==6:\n",
    "\t\treturn \"Sixth\"\n",
    "\telif number==7:\n",
    "\t\treturn \"Seventh\"\n",
    "\telif number==8:\n",
    "\t\treturn \"Eighth\"\n",
    "\telif number==9:\n",
    "\t\treturn \"Ninth\"\n",
    "\telif number==10:\n",
    "\t\treturn \"Tenth\"\n",
    "\t\t"
   ]
  }
 ],
 "metadata": {
  "kernelspec": {
   "display_name": "Python 3",
   "language": "python",
   "name": "python3"
  },
  "language_info": {
   "codemirror_mode": {
    "name": "ipython",
    "version": 3
   },
   "file_extension": ".py",
   "mimetype": "text/x-python",
   "name": "python",
   "nbconvert_exporter": "python",
   "pygments_lexer": "ipython3",
   "version": "3.6.5"
  }
 },
 "nbformat": 4,
 "nbformat_minor": 2
}

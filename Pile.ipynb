{
 "cells": [
  {
   "cell_type": "code",
   "execution_count": null,
   "metadata": {},
   "outputs": [],
   "source": [
    "from random import shuffle\n",
    "from Card import Card\n",
    "class Pile():\n",
    "\n",
    "\tdef __init__ (self):\n",
    "\t\tself.Pile_list=[]\n",
    "\n",
    "\tdef create_Pile(self): \t\n",
    "\t\ti=None\t\n",
    "\t\tj=None\n",
    "\t\tfor i in range(1,14):\n",
    "\t\t\tfor j in [\"Hearts\",\"Spades\",\"Clubs\",\"Diamonds\"]:\n",
    "\t\t\t\tself.Pile_list.append(Card(i,j))\n",
    "\n",
    "\tdef Pile_shuffle(self):\n",
    "\t\tshuffle(self.Pile_list)\n",
    "\n",
    "\tdef Hit_Card(self):\n",
    "\t\t\n",
    "\t\tx=self.Pile_list[0]\n",
    "\t\tself.Pile_list.pop(0)\n",
    "\t\treturn x\n",
    "\n"
   ]
  }
 ],
 "metadata": {
  "kernelspec": {
   "display_name": "Python 3",
   "language": "python",
   "name": "python3"
  },
  "language_info": {
   "codemirror_mode": {
    "name": "ipython",
    "version": 3
   },
   "file_extension": ".py",
   "mimetype": "text/x-python",
   "name": "python",
   "nbconvert_exporter": "python",
   "pygments_lexer": "ipython3",
   "version": "3.6.5"
  }
 },
 "nbformat": 4,
 "nbformat_minor": 2
}

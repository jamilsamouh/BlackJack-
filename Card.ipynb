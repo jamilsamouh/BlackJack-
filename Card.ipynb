{
 "cells": [
  {
   "cell_type": "code",
   "execution_count": 2,
   "metadata": {},
   "outputs": [],
   "source": [
    "class Card():\n",
    "\tdef __init__(self,rank,suit):\n",
    "\t\tself.rank=rank\n",
    "\t\tself.suit=suit\n",
    "\n",
    "\tdef get_rank(self):\n",
    "\t\tif(self.rank==11 or self.rank==12 or self.rank==13):\n",
    "\t\t\treturn 10\n",
    "\t\telse:\n",
    "\t\t\treturn self.rank\t\n",
    "\tdef get_suit(self):\n",
    "\t\treturn self.suit\n",
    "\n",
    "\tdef get_string_rank(self):\n",
    "\t\tif(self.rank==1):\n",
    "\t\t\treturn \"Ace\"\n",
    "\t\telif(self.rank==11):\n",
    "\t\t\treturn \"Jack\"\n",
    "\t\telif(self.rank==12):\n",
    "\t\t\treturn \"Queen\"\n",
    "\t\telif(self.rank==13):\n",
    "\t\t\treturn \"King\"\n",
    "\t\telse:\n",
    "\t\t\treturn str(self.rank)\n",
    "\n",
    "\tdef __str__(self):\n",
    "\t\treturn(f\"the rank of the card is '{self.get_string_rank()}' and the suit of the card is '{self.get_suit()}'\")\t\t\t\t\t\t\n"
   ]
  }
 ],
 "metadata": {
  "kernelspec": {
   "display_name": "Python 3",
   "language": "python",
   "name": "python3"
  },
  "language_info": {
   "codemirror_mode": {
    "name": "ipython",
    "version": 3
   },
   "file_extension": ".py",
   "mimetype": "text/x-python",
   "name": "python",
   "nbconvert_exporter": "python",
   "pygments_lexer": "ipython3",
   "version": "3.6.5"
  }
 },
 "nbformat": 4,
 "nbformat_minor": 2
}
